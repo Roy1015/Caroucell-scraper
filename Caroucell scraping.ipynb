{
 "cells": [
  {
   "cell_type": "code",
   "execution_count": 3,
   "metadata": {},
   "outputs": [
    {
     "name": "stdout",
     "output_type": "stream",
     "text": [
      "70.0\n",
      "265.0\n",
      "9800.0\n",
      "199.0\n",
      "80.0\n",
      "100.0\n",
      "1.0\n",
      "2190.0\n",
      "2249.0\n",
      "532.0\n",
      "578.0\n"
     ]
    },
    {
     "ename": "WebDriverException",
     "evalue": "Message: disconnected: not connected to DevTools\n  (failed to check if window was closed: disconnected: not connected to DevTools)\n  (Session info: chrome=124.0.6367.60)\nStacktrace:\n0   chromedriver                        0x00000001052f6934 chromedriver + 4368692\n1   chromedriver                        0x00000001052eedc8 chromedriver + 4337096\n2   chromedriver                        0x0000000104f12c04 chromedriver + 289796\n3   chromedriver                        0x0000000104efbd00 chromedriver + 195840\n4   chromedriver                        0x0000000104efbc3c chromedriver + 195644\n5   chromedriver                        0x0000000104f8cd24 chromedriver + 789796\n6   chromedriver                        0x0000000104f49ab4 chromedriver + 514740\n7   chromedriver                        0x0000000104f4a50c chromedriver + 517388\n8   chromedriver                        0x00000001052bae50 chromedriver + 4124240\n9   chromedriver                        0x00000001052bfc40 chromedriver + 4144192\n10  chromedriver                        0x00000001052a0818 chromedriver + 4016152\n11  chromedriver                        0x00000001052c0570 chromedriver + 4146544\n12  chromedriver                        0x00000001052922cc chromedriver + 3957452\n13  chromedriver                        0x00000001052dfeb8 chromedriver + 4275896\n14  chromedriver                        0x00000001052e0034 chromedriver + 4276276\n15  chromedriver                        0x00000001052eea28 chromedriver + 4336168\n16  libsystem_pthread.dylib             0x00000001a23dffa8 _pthread_start + 148\n17  libsystem_pthread.dylib             0x00000001a23dada0 thread_start + 8\n",
     "output_type": "error",
     "traceback": [
      "\u001b[0;31m---------------------------------------------------------------------------\u001b[0m",
      "\u001b[0;31mWebDriverException\u001b[0m                        Traceback (most recent call last)",
      "Cell \u001b[0;32mIn[3], line 42\u001b[0m\n\u001b[1;32m     39\u001b[0m     time\u001b[39m.\u001b[39msleep(\u001b[39m2\u001b[39m) \n\u001b[1;32m     41\u001b[0m \u001b[39m# 商品ごとのHTMLを全取得\u001b[39;00m\n\u001b[0;32m---> 42\u001b[0m soup \u001b[39m=\u001b[39m bs(browser\u001b[39m.\u001b[39mpage_source, \u001b[39m\"\u001b[39m\u001b[39mhtml.parser\u001b[39m\u001b[39m\"\u001b[39m)\n\u001b[1;32m     43\u001b[0m posts \u001b[39m=\u001b[39m soup\u001b[39m.\u001b[39mfind_all(\u001b[39m\"\u001b[39m\u001b[39mdiv\u001b[39m\u001b[39m\"\u001b[39m,{\u001b[39m\"\u001b[39m\u001b[39mclass\u001b[39m\u001b[39m\"\u001b[39m:\u001b[39m\"\u001b[39m\u001b[39mD_pm M_kS\u001b[39m\u001b[39m\"\u001b[39m})\n\u001b[1;32m     45\u001b[0m \u001b[39m# 商品ごとに名前と値段、購入済みかどうか、URLを取得\u001b[39;00m\n",
      "File \u001b[0;32m~/anaconda3/lib/python3.11/site-packages/selenium/webdriver/remote/webdriver.py:448\u001b[0m, in \u001b[0;36mWebDriver.page_source\u001b[0;34m(self)\u001b[0m\n\u001b[1;32m    439\u001b[0m \u001b[39m@property\u001b[39m\n\u001b[1;32m    440\u001b[0m \u001b[39mdef\u001b[39;00m \u001b[39mpage_source\u001b[39m(\u001b[39mself\u001b[39m) \u001b[39m-\u001b[39m\u001b[39m>\u001b[39m \u001b[39mstr\u001b[39m:\n\u001b[1;32m    441\u001b[0m \u001b[39m    \u001b[39m\u001b[39m\"\"\"Gets the source of the current page.\u001b[39;00m\n\u001b[1;32m    442\u001b[0m \n\u001b[1;32m    443\u001b[0m \u001b[39m    :Usage:\u001b[39;00m\n\u001b[0;32m   (...)\u001b[0m\n\u001b[1;32m    446\u001b[0m \u001b[39m            driver.page_source\u001b[39;00m\n\u001b[1;32m    447\u001b[0m \u001b[39m    \"\"\"\u001b[39;00m\n\u001b[0;32m--> 448\u001b[0m     \u001b[39mreturn\u001b[39;00m \u001b[39mself\u001b[39m\u001b[39m.\u001b[39mexecute(Command\u001b[39m.\u001b[39mGET_PAGE_SOURCE)[\u001b[39m\"\u001b[39m\u001b[39mvalue\u001b[39m\u001b[39m\"\u001b[39m]\n",
      "File \u001b[0;32m~/anaconda3/lib/python3.11/site-packages/selenium/webdriver/remote/webdriver.py:347\u001b[0m, in \u001b[0;36mWebDriver.execute\u001b[0;34m(self, driver_command, params)\u001b[0m\n\u001b[1;32m    345\u001b[0m response \u001b[39m=\u001b[39m \u001b[39mself\u001b[39m\u001b[39m.\u001b[39mcommand_executor\u001b[39m.\u001b[39mexecute(driver_command, params)\n\u001b[1;32m    346\u001b[0m \u001b[39mif\u001b[39;00m response:\n\u001b[0;32m--> 347\u001b[0m     \u001b[39mself\u001b[39m\u001b[39m.\u001b[39merror_handler\u001b[39m.\u001b[39mcheck_response(response)\n\u001b[1;32m    348\u001b[0m     response[\u001b[39m\"\u001b[39m\u001b[39mvalue\u001b[39m\u001b[39m\"\u001b[39m] \u001b[39m=\u001b[39m \u001b[39mself\u001b[39m\u001b[39m.\u001b[39m_unwrap_value(response\u001b[39m.\u001b[39mget(\u001b[39m\"\u001b[39m\u001b[39mvalue\u001b[39m\u001b[39m\"\u001b[39m, \u001b[39mNone\u001b[39;00m))\n\u001b[1;32m    349\u001b[0m     \u001b[39mreturn\u001b[39;00m response\n",
      "File \u001b[0;32m~/anaconda3/lib/python3.11/site-packages/selenium/webdriver/remote/errorhandler.py:229\u001b[0m, in \u001b[0;36mErrorHandler.check_response\u001b[0;34m(self, response)\u001b[0m\n\u001b[1;32m    227\u001b[0m         alert_text \u001b[39m=\u001b[39m value[\u001b[39m\"\u001b[39m\u001b[39malert\u001b[39m\u001b[39m\"\u001b[39m]\u001b[39m.\u001b[39mget(\u001b[39m\"\u001b[39m\u001b[39mtext\u001b[39m\u001b[39m\"\u001b[39m)\n\u001b[1;32m    228\u001b[0m     \u001b[39mraise\u001b[39;00m exception_class(message, screen, stacktrace, alert_text)  \u001b[39m# type: ignore[call-arg]  # mypy is not smart enough here\u001b[39;00m\n\u001b[0;32m--> 229\u001b[0m \u001b[39mraise\u001b[39;00m exception_class(message, screen, stacktrace)\n",
      "\u001b[0;31mWebDriverException\u001b[0m: Message: disconnected: not connected to DevTools\n  (failed to check if window was closed: disconnected: not connected to DevTools)\n  (Session info: chrome=124.0.6367.60)\nStacktrace:\n0   chromedriver                        0x00000001052f6934 chromedriver + 4368692\n1   chromedriver                        0x00000001052eedc8 chromedriver + 4337096\n2   chromedriver                        0x0000000104f12c04 chromedriver + 289796\n3   chromedriver                        0x0000000104efbd00 chromedriver + 195840\n4   chromedriver                        0x0000000104efbc3c chromedriver + 195644\n5   chromedriver                        0x0000000104f8cd24 chromedriver + 789796\n6   chromedriver                        0x0000000104f49ab4 chromedriver + 514740\n7   chromedriver                        0x0000000104f4a50c chromedriver + 517388\n8   chromedriver                        0x00000001052bae50 chromedriver + 4124240\n9   chromedriver                        0x00000001052bfc40 chromedriver + 4144192\n10  chromedriver                        0x00000001052a0818 chromedriver + 4016152\n11  chromedriver                        0x00000001052c0570 chromedriver + 4146544\n12  chromedriver                        0x00000001052922cc chromedriver + 3957452\n13  chromedriver                        0x00000001052dfeb8 chromedriver + 4275896\n14  chromedriver                        0x00000001052e0034 chromedriver + 4276276\n15  chromedriver                        0x00000001052eea28 chromedriver + 4336168\n16  libsystem_pthread.dylib             0x00000001a23dffa8 _pthread_start + 148\n17  libsystem_pthread.dylib             0x00000001a23dada0 thread_start + 8\n"
     ]
    }
   ],
   "source": [
    "import pandas as pd\n",
    "from selenium import webdriver\n",
    "import time\n",
    "import os\n",
    "import re\n",
    "from bs4 import BeautifulSoup as bs\n",
    "from selenium.webdriver.common.by import By\n",
    "from sqlalchemy import true\n",
    "from selenium.webdriver.common.keys import Keys\n",
    "from selenium.webdriver.common.action_chains import ActionChains\n",
    "import gspread\n",
    "from oauth2client.service_account import ServiceAccountCredentials\n",
    "import json\n",
    "\n",
    "scopes = ['https://www.googleapis.com/auth/spreadsheets','https://www.googleapis.com/auth/drive']\n",
    "credentials = ServiceAccountCredentials.from_json_keyfile_name(\"/Users/ryoaraki/Downloads/avid-pager-420607-47f0563c7b60.json\", scopes) #access the json key you downloaded earlier \n",
    "file = gspread.authorize(credentials) # authenticate the JSON key with gspread\n",
    "sheet = file.open(\"resell list\") #open sheet\n",
    "sheetL = sheet.sheet1\n",
    "\n",
    "skus = sheetL.col_values(7)[1:] \n",
    "SKUs = [str(x) for x in skus if x != '']  # Use list comprehension to filter out empty values\n",
    "\n",
    "data=[]\n",
    "\n",
    "for sku in SKUs:\n",
    "    url = \"https://www.carousell.com.hk/search/\" + sku\n",
    "    browser = webdriver.Chrome()\n",
    "    time.sleep(3)\n",
    "\n",
    "    # ブラウザで検索\n",
    "    browser.get(url)\n",
    "    time.sleep(3)\n",
    "    def scroll_to_bottom():\n",
    "        actions = ActionChains(browser)\n",
    "        actions.send_keys(Keys.END).perform()\n",
    "    for _ in range(5):  # Adjust the number of scrolls as needed\n",
    "        scroll_to_bottom()\n",
    "        time.sleep(5) \n",
    "\n",
    "    # 商品ごとのHTMLを全取得\n",
    "    soup = bs(browser.page_source, \"html.parser\")\n",
    "    posts = soup.find_all(\"div\",{\"class\":\"D_pm M_kS\"})\n",
    "\n",
    "    # 商品ごとに名前と値段、購入済みかどうか、URLを取得\n",
    "    for post in posts:    \n",
    "        # Assuming 'element' is the WebElement representing the div\n",
    "        p_tag = post.find(\"p\", class_=\"D_mA M_hE D_mB M_hF D_mG M_hJ D_mI M_hL D_mM M_hP D_mP M_hS D_mZ\")\n",
    "        if p_tag:\n",
    "            price = float(p_tag.get_text().replace(\"HK$\", '').replace(\",\", '').strip())\n",
    "            print(price)\n",
    "        else: continue\n",
    "        \n",
    "        data.append({\"SKU\": sku, \"Price\": price, \"Count\": 1})\n",
    "\n",
    "    browser.close()\n",
    "\n",
    "df = pd.DataFrame(data)\n",
    "df = df.groupby('SKU').agg({'Price':['min','mean','max'],'Count':'sum'}).reset_index()\n",
    "\n",
    "print(df)\n",
    "        \n",
    "# Export to Gsheet\n",
    "sheetL.update('I2', df.values.tolist(), value_input_option='RAW')"
   ]
  },
  {
   "cell_type": "code",
   "execution_count": null,
   "metadata": {},
   "outputs": [],
   "source": []
  }
 ],
 "metadata": {
  "kernelspec": {
   "display_name": "base",
   "language": "python",
   "name": "python3"
  },
  "language_info": {
   "codemirror_mode": {
    "name": "ipython",
    "version": 3
   },
   "file_extension": ".py",
   "mimetype": "text/x-python",
   "name": "python",
   "nbconvert_exporter": "python",
   "pygments_lexer": "ipython3",
   "version": "3.11.5"
  },
  "orig_nbformat": 4,
  "vscode": {
   "interpreter": {
    "hash": "5d66fb7801befa98872ff63d2af86d066cdef1793d77c0faebdc8a3fb05601c4"
   }
  }
 },
 "nbformat": 4,
 "nbformat_minor": 2
}
